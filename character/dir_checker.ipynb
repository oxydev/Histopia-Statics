{
  "nbformat": 4,
  "nbformat_minor": 0,
  "metadata": {
    "colab": {
      "name": "Untitled1.ipynb",
      "provenance": [],
      "collapsed_sections": []
    },
    "kernelspec": {
      "name": "python3",
      "display_name": "Python 3"
    },
    "language_info": {
      "name": "python"
    }
  },
  "cells": [
    {
      "cell_type": "code",
      "execution_count": 1,
      "metadata": {
        "colab": {
          "base_uri": "https://localhost:8080/"
        },
        "id": "RcIc-zWwdeBb",
        "outputId": "8794e2fc-2ce7-4d25-c889-882cd77f1e3f"
      },
      "outputs": [
        {
          "output_type": "stream",
          "name": "stdout",
          "text": [
            "Mounted at /content/drive\n"
          ]
        }
      ],
      "source": [
        "from google.colab import drive\n",
        "drive.mount('/content/drive', force_remount=True)"
      ]
    },
    {
      "cell_type": "code",
      "source": [
        "import sys\n",
        "import os\n",
        "\n",
        "threed_assets_dir = 'Term 5/3D assets/'\n",
        "character_sub_dir = 'character/worker/'\n",
        "\n",
        "character_dir = threed_assets_dir + character_sub_dir\n",
        "sys.path.append(f'content/drive/MyDrive/{character_dir}')\n",
        "\n",
        "% cd /content/drive/MyDrive/$character_dir"
      ],
      "metadata": {
        "colab": {
          "base_uri": "https://localhost:8080/"
        },
        "id": "zJgJsvrGdfGy",
        "outputId": "34f8b732-1f87-4f18-b896-b0e01dd4a91b"
      },
      "execution_count": 2,
      "outputs": [
        {
          "output_type": "stream",
          "name": "stdout",
          "text": [
            "/content/drive/.shortcut-targets-by-id/1F4q--fdiHawRz-IMoK-muO22MicCQCEX/3D assets/character/worker\n"
          ]
        }
      ]
    },
    {
      "cell_type": "code",
      "source": [
        "import json\n",
        "\n",
        "genders = ['male', 'female']\n",
        "PERSON_PARTS = [\n",
        "    'head',\n",
        "    'eye',\n",
        "    'eyebrow',\n",
        "    'hair',\n",
        "    'lip',\n",
        "    'top',\n",
        "    'bottom',\n",
        "    'shoes'\n",
        "]\n",
        "\n",
        "extr_json = {}\n",
        "for gender in genders:\n",
        "  extr_json[gender] = {}\n",
        "  for person_part in PERSON_PARTS:\n",
        "    extr_json[gender][person_part] = []\n",
        "    if not os.path.isdir(f'{gender}/{person_part}/default'):\n",
        "      print(f\"default for {gender}/{person_part} doesn't exist\")\n",
        "    else:\n",
        "      pp_path = f'{gender}/{person_part}'\n",
        "      for person_part_name in os.listdir(pp_path):\n",
        "        ppn_path = pp_path + '/' + person_part_name + '/'\n",
        "        eligible_files = ['model.glb', 'picture.png']\n",
        "        non_exist_files = []\n",
        "        for eligible_file in eligible_files:\n",
        "          if not os.path.isfile(ppn_path + eligible_file):\n",
        "            non_exist_files.append(eligible_file)\n",
        "        if len(non_exist_files) != 0:\n",
        "          print(f\"files: {non_exist_files} In directory {ppn_path} don't exist\")\n",
        "        else:\n",
        "          extr_json[gender][person_part].append(person_part_name)\n",
        "\n",
        "print(f'the Extracted JSON:')\n",
        "print(json.dumps(extr_json, sort_keys=True, indent=4))\n",
        "              \n"
      ],
      "metadata": {
        "colab": {
          "base_uri": "https://localhost:8080/"
        },
        "id": "69jZxyR7f9pq",
        "outputId": "5036ad37-8acf-49c6-b4ca-14d1f28cd435"
      },
      "execution_count": 11,
      "outputs": [
        {
          "output_type": "stream",
          "name": "stdout",
          "text": [
            "default for male/head doesn't exist\n",
            "files: ['picture.png'] In directory male/eye/default/ don't exist\n",
            "files: ['picture.png'] In directory male/eyebrow/default/ don't exist\n",
            "files: ['picture.png'] In directory male/lip/default/ don't exist\n",
            "files: ['model.glb'] In directory male/top/top8/ don't exist\n",
            "files: ['model.glb'] In directory male/top/top7/ don't exist\n",
            "files: ['model.glb'] In directory male/top/top6/ don't exist\n",
            "files: ['model.glb'] In directory male/top/top5/ don't exist\n",
            "files: ['model.glb'] In directory male/top/top4/ don't exist\n",
            "files: ['model.glb'] In directory male/top/top3/ don't exist\n",
            "files: ['model.glb'] In directory male/top/top2/ don't exist\n",
            "files: ['model.glb'] In directory male/bottom/bottom8/ don't exist\n",
            "files: ['model.glb'] In directory male/bottom/bottom7/ don't exist\n",
            "files: ['model.glb'] In directory male/bottom/bottom6/ don't exist\n",
            "files: ['model.glb'] In directory male/bottom/bottom5/ don't exist\n",
            "files: ['model.glb'] In directory male/bottom/bottom4/ don't exist\n",
            "files: ['model.glb'] In directory male/bottom/bottom3/ don't exist\n",
            "files: ['model.glb'] In directory male/bottom/bottom2/ don't exist\n",
            "files: ['model.glb'] In directory male/shoes/shoes7/ don't exist\n",
            "files: ['model.glb'] In directory male/shoes/shoes8/ don't exist\n",
            "files: ['model.glb'] In directory male/shoes/shoes6/ don't exist\n",
            "files: ['model.glb'] In directory male/shoes/shoes5/ don't exist\n",
            "files: ['model.glb'] In directory male/shoes/shoes4/ don't exist\n",
            "files: ['model.glb'] In directory male/shoes/shoes3/ don't exist\n",
            "files: ['model.glb'] In directory male/shoes/shoes2/ don't exist\n",
            "files: ['picture.png'] In directory female/head/default/ don't exist\n",
            "files: ['picture.png'] In directory female/eye/default/ don't exist\n",
            "files: ['picture.png'] In directory female/eye/eye2/ don't exist\n",
            "files: ['picture.png'] In directory female/eye/eye3/ don't exist\n",
            "files: ['picture.png'] In directory female/eye/eye4/ don't exist\n",
            "files: ['picture.png'] In directory female/eye/eye5/ don't exist\n",
            "files: ['picture.png'] In directory female/eye/eye6/ don't exist\n",
            "files: ['picture.png'] In directory female/eye/eye7/ don't exist\n",
            "files: ['picture.png'] In directory female/eye/eye8/ don't exist\n",
            "files: ['picture.png'] In directory female/eye/eye9/ don't exist\n",
            "files: ['picture.png'] In directory female/eye/eye10/ don't exist\n",
            "files: ['picture.png'] In directory female/eyebrow/default/ don't exist\n",
            "files: ['picture.png'] In directory female/eyebrow/eyebrow2/ don't exist\n",
            "files: ['picture.png'] In directory female/eyebrow/eyebrow3/ don't exist\n",
            "files: ['picture.png'] In directory female/eyebrow/eyebrow4/ don't exist\n",
            "files: ['picture.png'] In directory female/eyebrow/eyebrow5/ don't exist\n",
            "files: ['picture.png'] In directory female/eyebrow/eyebrow6/ don't exist\n",
            "files: ['picture.png'] In directory female/eyebrow/eyebrow7/ don't exist\n",
            "files: ['picture.png'] In directory female/eyebrow/eyebrow8/ don't exist\n",
            "files: ['picture.png'] In directory female/eyebrow/eyebrow9/ don't exist\n",
            "files: ['picture.png'] In directory female/eyebrow/eyebrow10/ don't exist\n",
            "files: ['picture.png'] In directory female/hair/default/ don't exist\n",
            "files: ['picture.png'] In directory female/hair/hair6/ don't exist\n",
            "files: ['picture.png'] In directory female/hair/hair8/ don't exist\n",
            "files: ['picture.png'] In directory female/hair/hair9/ don't exist\n",
            "files: ['picture.png'] In directory female/lip/default/ don't exist\n",
            "files: ['picture.png'] In directory female/lip/lip2/ don't exist\n",
            "files: ['picture.png'] In directory female/lip/lip3/ don't exist\n",
            "files: ['picture.png'] In directory female/lip/lip4/ don't exist\n",
            "files: ['picture.png'] In directory female/lip/lip5/ don't exist\n",
            "files: ['picture.png'] In directory female/lip/lip6/ don't exist\n",
            "files: ['picture.png'] In directory female/lip/lip7/ don't exist\n",
            "files: ['picture.png'] In directory female/lip/lip8/ don't exist\n",
            "files: ['picture.png'] In directory female/lip/lip9/ don't exist\n",
            "files: ['picture.png'] In directory female/top/default/ don't exist\n",
            "files: ['picture.png'] In directory female/top/top9/ don't exist\n",
            "files: ['picture.png'] In directory female/top/top10/ don't exist\n",
            "files: ['picture.png'] In directory female/bottom/default/ don't exist\n",
            "files: ['model.glb'] In directory female/bottom/bottom5/ don't exist\n",
            "files: ['picture.png'] In directory female/bottom/bottom9/ don't exist\n",
            "files: ['picture.png'] In directory female/bottom/bottom10/ don't exist\n",
            "files: ['picture.png'] In directory female/shoes/default/ don't exist\n",
            "files: ['picture.png'] In directory female/shoes/shoes9/ don't exist\n",
            "files: ['picture.png'] In directory female/shoes/shoes10/ don't exist\n",
            "the Extracted JSON:\n",
            "{\n",
            "    \"female\": {\n",
            "        \"bottom\": [\n",
            "            \"bottom2\",\n",
            "            \"bottom3\",\n",
            "            \"bottom4\",\n",
            "            \"bottom6\",\n",
            "            \"bottom7\",\n",
            "            \"bottom8\"\n",
            "        ],\n",
            "        \"eye\": [],\n",
            "        \"eyebrow\": [],\n",
            "        \"hair\": [\n",
            "            \"hair1\",\n",
            "            \"hair2\",\n",
            "            \"hair3\",\n",
            "            \"hair4\",\n",
            "            \"hair5\",\n",
            "            \"hair7\"\n",
            "        ],\n",
            "        \"head\": [],\n",
            "        \"lip\": [],\n",
            "        \"shoes\": [\n",
            "            \"shoes2\",\n",
            "            \"shoes3\",\n",
            "            \"shoes4\",\n",
            "            \"shoes5\",\n",
            "            \"shoes6\",\n",
            "            \"shoes7\",\n",
            "            \"shoes8\"\n",
            "        ],\n",
            "        \"top\": [\n",
            "            \"top2\",\n",
            "            \"top3\",\n",
            "            \"top4\",\n",
            "            \"top5\",\n",
            "            \"top6\",\n",
            "            \"top7\",\n",
            "            \"top8\"\n",
            "        ]\n",
            "    },\n",
            "    \"male\": {\n",
            "        \"bottom\": [\n",
            "            \"default\"\n",
            "        ],\n",
            "        \"eye\": [],\n",
            "        \"eyebrow\": [],\n",
            "        \"hair\": [\n",
            "            \"default\"\n",
            "        ],\n",
            "        \"head\": [],\n",
            "        \"lip\": [],\n",
            "        \"shoes\": [\n",
            "            \"default\"\n",
            "        ],\n",
            "        \"top\": [\n",
            "            \"default\"\n",
            "        ]\n",
            "    }\n",
            "}\n"
          ]
        }
      ]
    },
    {
      "cell_type": "code",
      "source": [
        ""
      ],
      "metadata": {
        "id": "J3Ff_M3LkJER"
      },
      "execution_count": null,
      "outputs": []
    }
  ]
}